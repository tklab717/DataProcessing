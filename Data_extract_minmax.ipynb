{
 "cells": [
  {
   "cell_type": "code",
   "execution_count": 59,
   "metadata": {},
   "outputs": [],
   "source": [
    "import pandas as pd\n",
    "import numpy as np\n",
    "import numpy.random as random\n",
    "import matplotlib.pyplot as plt\n",
    "import pathlib"
   ]
  },
  {
   "cell_type": "markdown",
   "metadata": {},
   "source": [
    "### サンプルデータの作成　　\n",
    "複数のデータセットを作成し,csvとしてローカルに保存する"
   ]
  },
  {
   "cell_type": "code",
   "execution_count": 315,
   "metadata": {},
   "outputs": [],
   "source": [
    "df_meta = pd.DataFrame({'tar_NE':[1000,1000,1000,1000,1000], 'tar_GAIRCYL':[0.20,0.20,0.25,0.25,0.30 ], 'num':[1,2,1,2,3], 'file_name':['{}.csv'.format(i) for i in range(5)]})"
   ]
  },
  {
   "cell_type": "code",
   "execution_count": 316,
   "metadata": {},
   "outputs": [],
   "source": [
    "df_meta.to_csv('meta.csv')"
   ]
  },
  {
   "cell_type": "code",
   "execution_count": 264,
   "metadata": {},
   "outputs": [],
   "source": [
    "num_data =5\n",
    "sampling = 0.01\n",
    "data_list =[]"
   ]
  },
  {
   "cell_type": "code",
   "execution_count": 265,
   "metadata": {},
   "outputs": [],
   "source": [
    "for i in range(num_data):\n",
    "    time=np.arange(0,1000)*sampling\n",
    "    signal = random.randn(1000)\n",
    "    df = pd.DataFrame({'A':signal}, index = time)\n",
    "    F_CH_rise = np.where(np.array(df.index)>5,1,0)\n",
    "    F_CH_down = np.where(np.array(df.index)>3,0,1)\n",
    "    df['F_V_rise'] = df.index.map(lambda x : 1 if ((x > 2)&(x<4))|((x > 7)&(x<8)) else 0 )\n",
    "    df['F_V_down'] = df.index.map(lambda x : 0 if x > 3 else 1)\n",
    "    data_list.append(df)"
   ]
  },
  {
   "cell_type": "code",
   "execution_count": 266,
   "metadata": {
    "scrolled": false
   },
   "outputs": [
    {
     "data": {
      "text/html": [
       "<div>\n",
       "<style scoped>\n",
       "    .dataframe tbody tr th:only-of-type {\n",
       "        vertical-align: middle;\n",
       "    }\n",
       "\n",
       "    .dataframe tbody tr th {\n",
       "        vertical-align: top;\n",
       "    }\n",
       "\n",
       "    .dataframe thead th {\n",
       "        text-align: right;\n",
       "    }\n",
       "</style>\n",
       "<table border=\"1\" class=\"dataframe\">\n",
       "  <thead>\n",
       "    <tr style=\"text-align: right;\">\n",
       "      <th></th>\n",
       "      <th>A</th>\n",
       "      <th>F_V_rise</th>\n",
       "      <th>F_V_down</th>\n",
       "    </tr>\n",
       "  </thead>\n",
       "  <tbody>\n",
       "    <tr>\n",
       "      <td>0.00</td>\n",
       "      <td>-1.166060</td>\n",
       "      <td>0</td>\n",
       "      <td>1</td>\n",
       "    </tr>\n",
       "    <tr>\n",
       "      <td>0.01</td>\n",
       "      <td>0.098749</td>\n",
       "      <td>0</td>\n",
       "      <td>1</td>\n",
       "    </tr>\n",
       "    <tr>\n",
       "      <td>0.02</td>\n",
       "      <td>-0.075536</td>\n",
       "      <td>0</td>\n",
       "      <td>1</td>\n",
       "    </tr>\n",
       "    <tr>\n",
       "      <td>0.03</td>\n",
       "      <td>-0.777711</td>\n",
       "      <td>0</td>\n",
       "      <td>1</td>\n",
       "    </tr>\n",
       "    <tr>\n",
       "      <td>0.04</td>\n",
       "      <td>-0.237356</td>\n",
       "      <td>0</td>\n",
       "      <td>1</td>\n",
       "    </tr>\n",
       "    <tr>\n",
       "      <td>...</td>\n",
       "      <td>...</td>\n",
       "      <td>...</td>\n",
       "      <td>...</td>\n",
       "    </tr>\n",
       "    <tr>\n",
       "      <td>9.95</td>\n",
       "      <td>-1.862096</td>\n",
       "      <td>0</td>\n",
       "      <td>0</td>\n",
       "    </tr>\n",
       "    <tr>\n",
       "      <td>9.96</td>\n",
       "      <td>0.749452</td>\n",
       "      <td>0</td>\n",
       "      <td>0</td>\n",
       "    </tr>\n",
       "    <tr>\n",
       "      <td>9.97</td>\n",
       "      <td>0.447067</td>\n",
       "      <td>0</td>\n",
       "      <td>0</td>\n",
       "    </tr>\n",
       "    <tr>\n",
       "      <td>9.98</td>\n",
       "      <td>-1.300947</td>\n",
       "      <td>0</td>\n",
       "      <td>0</td>\n",
       "    </tr>\n",
       "    <tr>\n",
       "      <td>9.99</td>\n",
       "      <td>0.330511</td>\n",
       "      <td>0</td>\n",
       "      <td>0</td>\n",
       "    </tr>\n",
       "  </tbody>\n",
       "</table>\n",
       "<p>1000 rows × 3 columns</p>\n",
       "</div>"
      ],
      "text/plain": [
       "             A  F_V_rise  F_V_down\n",
       "0.00 -1.166060         0         1\n",
       "0.01  0.098749         0         1\n",
       "0.02 -0.075536         0         1\n",
       "0.03 -0.777711         0         1\n",
       "0.04 -0.237356         0         1\n",
       "...        ...       ...       ...\n",
       "9.95 -1.862096         0         0\n",
       "9.96  0.749452         0         0\n",
       "9.97  0.447067         0         0\n",
       "9.98 -1.300947         0         0\n",
       "9.99  0.330511         0         0\n",
       "\n",
       "[1000 rows x 3 columns]"
      ]
     },
     "execution_count": 266,
     "metadata": {},
     "output_type": "execute_result"
    }
   ],
   "source": [
    "data_list[0]"
   ]
  },
  {
   "cell_type": "code",
   "execution_count": 43,
   "metadata": {},
   "outputs": [],
   "source": [
    "# INPUT DATAフォルダ作成\n",
    "import os\n",
    "\n",
    "try:\n",
    "    os.mkdir('data')\n",
    "except:\n",
    "    pass"
   ]
  },
  {
   "cell_type": "code",
   "execution_count": 33,
   "metadata": {},
   "outputs": [],
   "source": [
    "# OUTPUT DATAフォルダ作成\n",
    "import os\n",
    "\n",
    "try:\n",
    "    os.mkdir('output')\n",
    "except:\n",
    "    pass"
   ]
  },
  {
   "cell_type": "code",
   "execution_count": 34,
   "metadata": {},
   "outputs": [],
   "source": [
    "for i in range(num_data):\n",
    "    data_list[i].to_csv('data/{}'.format(i)+'.csv')"
   ]
  },
  {
   "cell_type": "markdown",
   "metadata": {},
   "source": [
    "### 条件のメタデータを準備"
   ]
  },
  {
   "cell_type": "code",
   "execution_count": 40,
   "metadata": {},
   "outputs": [],
   "source": [
    "df_meta = pd.read_csv('meta.csv')"
   ]
  },
  {
   "cell_type": "markdown",
   "metadata": {},
   "source": [
    "### 設定"
   ]
  },
  {
   "cell_type": "code",
   "execution_count": 31,
   "metadata": {},
   "outputs": [],
   "source": [
    "#%matplotlib\n",
    "#グラフを描画しない\n",
    "%matplotlib inline\n",
    "dt_ave_m = 1#移動平均時間\n",
    "sampling = 0.01#データサンプリング時間\n",
    "w_t = 5#指定領域の抽出\n",
    "dt_d_max =1#最大変動量を算出するウィンドウ区間\n",
    "df_meta_o = df_meta.copy()#出力用のメタファイルを作成\n",
    "signal_name = 'A' #移動平均する信号\n",
    "F_CH_name = 'F_V_rise' #データ抽出判定信号\n",
    "criteria = 0.5 #立ち上がり判定用の値\n",
    "F_CH_point = F_CH_name + '_point'\n",
    "plot_sig = [signal_name + '_mean', F_CH_name]\n",
    "y1_name = signal_name + '_mean'\n",
    "y2_name = F_CH_name\n",
    "x_name = 'Time'"
   ]
  },
  {
   "cell_type": "markdown",
   "metadata": {},
   "source": [
    "### データを読み込み,最大最小値を抽出\n",
    "+ dataフォルダに読み込むcsvファイルを用意する\n",
    "+ jpegを出力するoutputフォルダを準備する"
   ]
  },
  {
   "cell_type": "code",
   "execution_count": 35,
   "metadata": {
    "scrolled": true
   },
   "outputs": [
    {
     "data": {
      "image/png": "[encoded data removed]",
      "text/plain": [
       "<Figure size 504x288 with 2 Axes>"
      ]
     },
     "metadata": {
      "needs_background": "light"
     },
     "output_type": "display_data"
    },
    {
     "data": {
      "image/png": "[encoded data removed]",
      "text/plain": [
       "<Figure size 504x288 with 2 Axes>"
      ]
     },
     "metadata": {
      "needs_background": "light"
     },
     "output_type": "display_data"
    },
    {
     "data": {
      "image/png": "[encoded data removed]",
      "text/plain": [
       "<Figure size 504x288 with 2 Axes>"
      ]
     },
     "metadata": {
      "needs_background": "light"
     },
     "output_type": "display_data"
    },
    {
     "data": {
      "image/png": "[encoded data removed]",
      "text/plain": [
       "<Figure size 504x288 with 2 Axes>"
      ]
     },
     "metadata": {
      "needs_background": "light"
     },
     "output_type": "display_data"
    },
    {
     "data": {
      "image/png": "[encoded data removed]",
      "text/plain": [
       "<Figure size 504x288 with 2 Axes>"
      ]
     },
     "metadata": {
      "needs_background": "light"
     },
     "output_type": "display_data"
    }
   ],
   "source": [
    "for path in pathlib.Path('data').glob('*.csv'):\n",
    "    input_f = str(path.name)\n",
    "    tar_NE = df_meta[df_meta['file_name']==input_f].tar_NE.values[0]\n",
    "    tar_GAIRCYL = df_meta[df_meta['file_name']==input_f].tar_GAIRCYL.values[0]\n",
    "    num = df_meta[df_meta['file_name']==input_f].num.values[0]\n",
    "    output_f = str(tar_NE) + \"_\" + str(tar_GAIRCYL) + \"_\" + str(num)\n",
    "    \n",
    "    df = pd.read_csv(path, index_col =0)#データ読み込み\n",
    "    df = ave_move(df, dt_ave_m, sampling, signal_name)#信号の移動平均算出\n",
    "    df = detect_rise(df, F_CH_name, criteria)#立ち上がり検出\n",
    "    #df = detect_down(df, F_CH_name, criteria)#立ち下がり検出\n",
    "    df_W = window_data(df,w_t, F_CH_point)#検出ポイントの前後w_t区間を抽出\n",
    "    #fig, spike_d = get_d_signal(df_W, dt_d_max, sampling, signal_name )\n",
    "    spike_d = get_d_signal(df_W, dt_d_max, sampling, signal_name )\n",
    "    \n",
    "    df_meta_o.loc[df_meta_o['file_name']==input_f,'signal_d'] = spike_d[0]\n",
    "    df_meta_o.loc[df_meta_o['file_name']==input_f,'min_v'] = spike_d[1]\n",
    "    df_meta_o.loc[df_meta_o['file_name']==input_f,'max_v'] = spike_d[2]\n",
    "    df_meta_o.loc[df_meta_o['file_name']==input_f,'min_t'] = spike_d[3]\n",
    "    df_meta_o.loc[df_meta_o['file_name']==input_f,'max_t'] = spike_d[4]\n",
    "    df_meta_o.loc[df_meta_o['file_name']==input_f,'jpeg_path'] = 'output/' + output_f + '.jpeg'\n",
    "    fig = plot_signal(df_W, spike_d, plot_sig, y1_name, y2_name, x_name)\n",
    "    output_jpeg('output/'+output_f, fig)"
   ]
  },
  {
   "cell_type": "code",
   "execution_count": 41,
   "metadata": {},
   "outputs": [],
   "source": [
    "df_meta_o.to_csv(\"meta_jpeg.csv\")"
   ]
  },
  {
   "cell_type": "markdown",
   "metadata": {},
   "source": [
    "### エクセルファイルに画像ファイル出力\n",
    "(引用) https://qiita.com/nshinya/items/a46ef0002284d2f77789"
   ]
  },
  {
   "cell_type": "code",
   "execution_count": 43,
   "metadata": {},
   "outputs": [],
   "source": [
    "import pandas as pd\n",
    "import openpyxl\n",
    "from openpyxl.drawing.image import Image\n",
    "\n",
    "df = pd.read_csv('meta_jpeg.csv', index_col=0)\n",
    "# 3列目に画像のパスが入った列を挿入する。この列をテンプレート内でimgタグに変換する。\n",
    "df.insert(0, \"image\", df[\"jpeg_path\"])\n",
    "\n",
    "# 画像埋め込み先の列\n",
    "IMAGE_COL = \"A\"\n",
    "\n",
    "# Excel変換\n",
    "xl_path = \"table.xlsx\"\n",
    "df.to_excel(xl_path, index=False)\n",
    "\n",
    "# Excelロード\n",
    "wb = openpyxl.load_workbook(xl_path)\n",
    "# Activeシート取得\n",
    "ws = wb.active\n",
    "\n",
    "# 列幅を調整\n",
    "for c in ws.columns:\n",
    "    ws.column_dimensions['A'].width = 30\n",
    "\n",
    "def image_column(worksheet, image_column):\n",
    "    ws = worksheet\n",
    "\n",
    "    # 列数を取得\n",
    "    R_NUM = len(list(ws.rows))\n",
    "\n",
    "    # 画像貼り付け\n",
    "    # 行番号は1始まり。1行目はヘッダなので飛ばす\n",
    "    for i in range(1, R_NUM):\n",
    "        idx = i + 1\n",
    "        cell_name = image_column + str(idx)\n",
    "        c = ws[cell_name]\n",
    "        try:\n",
    "            # 画像ファイルのロード\n",
    "            img = Image(c.value)\n",
    "            # 画像の幅を200pxにする\n",
    "            aspect = float(img.height) / img.width\n",
    "            img.width = 200\n",
    "            img.height = aspect * 200\n",
    "            # 画像を貼り付ける\n",
    "            ws.add_image(img, cell_name)\n",
    "            # セルの高さを調整\n",
    "            ws.row_dimensions[idx].height = img.height\n",
    "            # セルの文字列は消しておく\n",
    "            c.value = \"\"\n",
    "        except FileNotFoundError:\n",
    "            # 画像ファイルが見つからない場合はスキップ\n",
    "            pass\n",
    "\n",
    "image_column(ws, IMAGE_COL)\n",
    "\n",
    "# 保存\n",
    "wb.save(xl_path)"
   ]
  },
  {
   "cell_type": "markdown",
   "metadata": {},
   "source": [
    "### 立上り検出"
   ]
  },
  {
   "cell_type": "code",
   "execution_count": 24,
   "metadata": {},
   "outputs": [],
   "source": [
    "def detect_rise(df, signal_name, criteria):\n",
    "    df[signal_name] = df[signal_name].map(lambda x: 1 if x >= criteria else 0)\n",
    "    df[signal_name + '_point'] = df[signal_name].diff()==1\n",
    "    return df"
   ]
  },
  {
   "cell_type": "markdown",
   "metadata": {},
   "source": [
    "### 立ち下がり検出"
   ]
  },
  {
   "cell_type": "code",
   "execution_count": 25,
   "metadata": {},
   "outputs": [],
   "source": [
    "def detect_down(df, signal_name, criteria):\n",
    "    df[signal_name] = df[signal_name].map(lambda x: 1 if x >= criteria else 0)\n",
    "    df[signal_name + '_point'] = df[signal_name].diff()==-1\n",
    "    return df"
   ]
  },
  {
   "cell_type": "markdown",
   "metadata": {},
   "source": [
    "### 移動平均を求める  \n",
    "窓関数を適用し，その間にて，演算する  \n",
    "(参考)https://note.nkmk.me/python-pandas-rolling/"
   ]
  },
  {
   "cell_type": "code",
   "execution_count": 26,
   "metadata": {},
   "outputs": [],
   "source": [
    "def ave_move(df, dt, sampling, signal_name):\n",
    "    n = int(dt / sampling)\n",
    "    #df['F_CH_rise'] = df.F_CH.diff()==1\n",
    "    df[signal_name + '_mean'] = df[signal_name].rolling(n, center = True).mean()\n",
    "    return df"
   ]
  },
  {
   "cell_type": "markdown",
   "metadata": {},
   "source": [
    "### 領域を指定しデータを抽出する  \n",
    "（参考) https://note.nkmk.me/python-pandas-diff-pct-change/"
   ]
  },
  {
   "cell_type": "code",
   "execution_count": 27,
   "metadata": {},
   "outputs": [],
   "source": [
    "def window_data(df, w_t, F_CH_rise):\n",
    "    t_rise = df[df[F_CH_rise]].index.values[0]\n",
    "    df['F_WINDOW'] = df.index.map(lambda x: True if (x <  w_t + t_rise) & (x > t_rise - w_t) else False )\n",
    "    df_W = df[df['F_WINDOW']].copy()\n",
    "    df_W.index = np.arange(0, df.F_WINDOW.sum())/100\n",
    "    return df_W"
   ]
  },
  {
   "cell_type": "markdown",
   "metadata": {},
   "source": [
    "### 最大値を抽出し、プロットする"
   ]
  },
  {
   "cell_type": "code",
   "execution_count": 28,
   "metadata": {},
   "outputs": [],
   "source": [
    "def get_d_signal(df_W, dt, sampling, signal_name):\n",
    "    n = int(dt / sampling)\n",
    "    df_W[signal_name + '_max'] =df_W[signal_name + '_mean'].rolling(n, center=True).max()\n",
    "    df_W[signal_name + '_min'] = df_W[signal_name + '_mean'].rolling(n, center= True).min()\n",
    "    df_W[signal_name + '_delta'] = df_W[signal_name + '_max'] - df_W[signal_name + '_min']\n",
    "    signal_dmax = np.nanmax(df_W[signal_name + '_delta'])\n",
    "    df_W['F_' + signal_name + '_max_d'] =df_W[signal_name + '_delta'] .map(lambda x : 1 if x == signal_dmax else 0)\n",
    "    pos_mm = df_W[df_W['F_' + signal_name + '_max_d'].diff().map(lambda x: abs(x)) == 1].index.values\n",
    "    min_t = round(pos_mm[1] - dt/2 - sampling , 2)\n",
    "    max_t = round(pos_mm[0] + dt/2- sampling , 2)\n",
    "    min_value = df_W[df_W.index == min_t][signal_name + '_mean'].values[0]\n",
    "    max_value = df_W[df_W.index == max_t][signal_name + '_mean'].values[0]\n",
    "    return [signal_dmax, min_value, max_value, min_t, max_t]"
   ]
  },
  {
   "cell_type": "code",
   "execution_count": 29,
   "metadata": {},
   "outputs": [],
   "source": [
    "def plot_signal(df_W, features_sig, plot_sig, y1_name, y2_name, x_name):\n",
    "    #fig = plt.scatter([features_sig[3], features_sig[4]],[features_sig[1], features_sig[2]], color = 'red')\n",
    "    fig = df_W[[i for i in plot_sig]].plot(secondary_y=[y2_name], figsize=(7,4),legend=\"best\",grid=True)\n",
    "    fig.scatter([features_sig[3], features_sig[4]],[features_sig[1], features_sig[2]], color = 'red')\n",
    "    # 左y軸のラベル\n",
    "    fig.set_ylabel(y1_name, fontsize=15)\n",
    "\n",
    "    # 右y軸のラベル\n",
    "    fig.right_ax.set_ylabel(y2_name, fontsize=15)\n",
    "\n",
    "    # x軸のラベル\n",
    "    fig.set_xlabel(x_name, fontsize=15)\n",
    "    \n",
    "    # 左y軸の描画範囲 余裕を持たせるために下限上限共に-1, +1\n",
    "    fig.set_ylim(-1, 1)\n",
    "\n",
    "    # 右y軸の描画範囲\n",
    "    fig.right_ax.set_ylim(0,1)\n",
    "\n",
    "    return fig\n"
   ]
  },
  {
   "cell_type": "markdown",
   "metadata": {},
   "source": [
    "### 画像の出力"
   ]
  },
  {
   "cell_type": "code",
   "execution_count": 294,
   "metadata": {},
   "outputs": [],
   "source": [
    "def output_jpeg(file_name, fig):\n",
    "    fig.figure.savefig(file_name+'.jpeg')"
   ]
  },
  {
   "cell_type": "code",
   "execution_count": null,
   "metadata": {},
   "outputs": [],
   "source": []
  },
  {
   "cell_type": "code",
   "execution_count": null,
   "metadata": {},
   "outputs": [],
   "source": []
  },
  {
   "cell_type": "code",
   "execution_count": 7,
   "metadata": {},
   "outputs": [],
   "source": [
    "df = data_list[0]"
   ]
  },
  {
   "cell_type": "code",
   "execution_count": 2,
   "metadata": {},
   "outputs": [],
   "source": [
    "import pandas as pd\n",
    "import numpy as np\n",
    "import numpy.random as random\n",
    "import matplotlib.pyplot as plt\n",
    "import pathlib"
   ]
  },
  {
   "cell_type": "code",
   "execution_count": 46,
   "metadata": {},
   "outputs": [],
   "source": [
    "def detect_rise(df, signal_name, criteria):\n",
    "     \"\"\"\n",
    "    This function detect rising signal point and return the index.\n",
    "    \n",
    "    Args:\n",
    "        df : dataframe which include time series data\n",
    "        signal_name: The name of signal which is detected \n",
    "        criteria : The value for judging rising\n",
    "    \n",
    "    Returns:\n",
    "        rise_time: list of time of signal rising\n",
    "    \"\"\"\n",
    "    df[signal_name] = df[signal_name].map(lambda x: 1 if x >= criteria else 0)\n",
    "    df[signal_name + '_point'] = df[signal_name].diff()==1\n",
    "    rise_time = list(df.loc[df[signal_name + '_point']].index.values)\n",
    "    return rise_time"
   ]
  },
  {
   "cell_type": "code",
   "execution_count": 57,
   "metadata": {},
   "outputs": [],
   "source": [
    "a = detect_rise(df, 'F_V_rise', 0.5)"
   ]
  },
  {
   "cell_type": "code",
   "execution_count": 58,
   "metadata": {},
   "outputs": [
    {
     "data": {
      "text/html": [
       "<div>\n",
       "<style scoped>\n",
       "    .dataframe tbody tr th:only-of-type {\n",
       "        vertical-align: middle;\n",
       "    }\n",
       "\n",
       "    .dataframe tbody tr th {\n",
       "        vertical-align: top;\n",
       "    }\n",
       "\n",
       "    .dataframe thead th {\n",
       "        text-align: right;\n",
       "    }\n",
       "</style>\n",
       "<table border=\"1\" class=\"dataframe\">\n",
       "  <thead>\n",
       "    <tr style=\"text-align: right;\">\n",
       "      <th></th>\n",
       "      <th>A</th>\n",
       "      <th>F_V_rise</th>\n",
       "      <th>F_V_down</th>\n",
       "      <th>F_V_rise_point</th>\n",
       "    </tr>\n",
       "  </thead>\n",
       "  <tbody>\n",
       "    <tr>\n",
       "      <td>2.01</td>\n",
       "      <td>-0.440473</td>\n",
       "      <td>1</td>\n",
       "      <td>1</td>\n",
       "      <td>True</td>\n",
       "    </tr>\n",
       "  </tbody>\n",
       "</table>\n",
       "</div>"
      ],
      "text/plain": [
       "             A  F_V_rise  F_V_down  F_V_rise_point\n",
       "2.01 -0.440473         1         1            True"
      ]
     },
     "execution_count": 58,
     "metadata": {},
     "output_type": "execute_result"
    }
   ],
   "source": [
    "df.loc[df.index==a[0]]"
   ]
  },
  {
   "cell_type": "code",
   "execution_count": null,
   "metadata": {},
   "outputs": [],
   "source": []
  },
  {
   "cell_type": "markdown",
   "metadata": {},
   "source": [
    "### 時系列データを扱う"
   ]
  },
  {
   "cell_type": "code",
   "execution_count": 313,
   "metadata": {
    "scrolled": true
   },
   "outputs": [
    {
     "data": {
      "text/html": [
       "<div>\n",
       "<style scoped>\n",
       "    .dataframe tbody tr th:only-of-type {\n",
       "        vertical-align: middle;\n",
       "    }\n",
       "\n",
       "    .dataframe tbody tr th {\n",
       "        vertical-align: top;\n",
       "    }\n",
       "\n",
       "    .dataframe thead th {\n",
       "        text-align: right;\n",
       "    }\n",
       "</style>\n",
       "<table border=\"1\" class=\"dataframe\">\n",
       "  <thead>\n",
       "    <tr style=\"text-align: right;\">\n",
       "      <th></th>\n",
       "      <th>tar_NE</th>\n",
       "      <th>tar_GAIRCYL</th>\n",
       "      <th>num</th>\n",
       "      <th>file_name</th>\n",
       "    </tr>\n",
       "  </thead>\n",
       "  <tbody>\n",
       "    <tr>\n",
       "      <td>0</td>\n",
       "      <td>1000</td>\n",
       "      <td>0.10</td>\n",
       "      <td>1</td>\n",
       "      <td>0.csv</td>\n",
       "    </tr>\n",
       "    <tr>\n",
       "      <td>1</td>\n",
       "      <td>1000</td>\n",
       "      <td>0.20</td>\n",
       "      <td>1</td>\n",
       "      <td>1.csv</td>\n",
       "    </tr>\n",
       "    <tr>\n",
       "      <td>2</td>\n",
       "      <td>1000</td>\n",
       "      <td>0.25</td>\n",
       "      <td>1</td>\n",
       "      <td>2.csv</td>\n",
       "    </tr>\n",
       "    <tr>\n",
       "      <td>3</td>\n",
       "      <td>1000</td>\n",
       "      <td>0.25</td>\n",
       "      <td>2</td>\n",
       "      <td>3.csv</td>\n",
       "    </tr>\n",
       "    <tr>\n",
       "      <td>4</td>\n",
       "      <td>1000</td>\n",
       "      <td>0.30</td>\n",
       "      <td>3</td>\n",
       "      <td>4.csv</td>\n",
       "    </tr>\n",
       "  </tbody>\n",
       "</table>\n",
       "</div>"
      ],
      "text/plain": [
       "   tar_NE  tar_GAIRCYL  num file_name\n",
       "0    1000         0.10    1     0.csv\n",
       "1    1000         0.20    1     1.csv\n",
       "2    1000         0.25    1     2.csv\n",
       "3    1000         0.25    2     3.csv\n",
       "4    1000         0.30    3     4.csv"
      ]
     },
     "execution_count": 313,
     "metadata": {},
     "output_type": "execute_result"
    }
   ],
   "source": [
    "#メタデータにて、テスト条件や集計前のRAWデータが保存されているファイル名を管理\n",
    "df_meta"
   ]
  },
  {
   "cell_type": "code",
   "execution_count": 319,
   "metadata": {},
   "outputs": [],
   "source": [
    "#各条件での比較を実施するため、比較するグループを作成\n",
    "#下記では、tar_NEとtar_GAIRCYLが同じ条件での計測タイミング違いを比較する\n",
    "df_g = df_meta.groupby([\"tar_NE\",\"tar_GAIRCYL\"])"
   ]
  },
  {
   "cell_type": "code",
   "execution_count": 342,
   "metadata": {},
   "outputs": [
    {
     "data": {
      "text/plain": [
       "0     -0.180332\n",
       "1     -0.022288\n",
       "2      1.843252\n",
       "3      0.541434\n",
       "4     -0.048732\n",
       "         ...   \n",
       "995   -0.488315\n",
       "996   -0.190832\n",
       "997   -1.121062\n",
       "998    0.194649\n",
       "999   -0.396598\n",
       "Name: A, Length: 1000, dtype: float64"
      ]
     },
     "execution_count": 342,
     "metadata": {},
     "output_type": "execute_result"
    }
   ],
   "source": [
    "pd.read_csv(\"data/\"+file[0])"
   ]
  },
  {
   "cell_type": "code",
   "execution_count": 386,
   "metadata": {},
   "outputs": [
    {
     "data": {
      "text/html": [
       "<div>\n",
       "<style scoped>\n",
       "    .dataframe tbody tr th:only-of-type {\n",
       "        vertical-align: middle;\n",
       "    }\n",
       "\n",
       "    .dataframe tbody tr th {\n",
       "        vertical-align: top;\n",
       "    }\n",
       "\n",
       "    .dataframe thead th {\n",
       "        text-align: right;\n",
       "    }\n",
       "</style>\n",
       "<table border=\"1\" class=\"dataframe\">\n",
       "  <thead>\n",
       "    <tr style=\"text-align: right;\">\n",
       "      <th></th>\n",
       "      <th>num</th>\n",
       "      <th>file_name</th>\n",
       "    </tr>\n",
       "  </thead>\n",
       "  <tbody>\n",
       "    <tr>\n",
       "      <td>0</td>\n",
       "      <td>1</td>\n",
       "      <td>0.csv</td>\n",
       "    </tr>\n",
       "    <tr>\n",
       "      <td>1</td>\n",
       "      <td>2</td>\n",
       "      <td>1.csv</td>\n",
       "    </tr>\n",
       "  </tbody>\n",
       "</table>\n",
       "</div>"
      ],
      "text/plain": [
       "   num file_name\n",
       "0    1     0.csv\n",
       "1    2     1.csv"
      ]
     },
     "execution_count": 386,
     "metadata": {},
     "output_type": "execute_result"
    }
   ],
   "source": [
    "i[1][['num','file_name']]"
   ]
  },
  {
   "cell_type": "code",
   "execution_count": 376,
   "metadata": {},
   "outputs": [
    {
     "ename": "ValueError",
     "evalue": "too many values to unpack (expected 2)",
     "output_type": "error",
     "traceback": [
      "\u001b[0;31m---------------------------------------------------------------------------\u001b[0m",
      "\u001b[0;31mValueError\u001b[0m                                Traceback (most recent call last)",
      "\u001b[0;32m<ipython-input-376-3d0f40e3c3a4>\u001b[0m in \u001b[0;36m<module>\u001b[0;34m\u001b[0m\n\u001b[1;32m      3\u001b[0m \u001b[0;32mfor\u001b[0m \u001b[0mi\u001b[0m \u001b[0;32min\u001b[0m \u001b[0mdf_g\u001b[0m\u001b[0;34m:\u001b[0m\u001b[0;34m\u001b[0m\u001b[0;34m\u001b[0m\u001b[0m\n\u001b[1;32m      4\u001b[0m     \u001b[0mdf_list\u001b[0m \u001b[0;34m=\u001b[0m \u001b[0;34m[\u001b[0m\u001b[0;34m]\u001b[0m\u001b[0;34m\u001b[0m\u001b[0;34m\u001b[0m\u001b[0m\n\u001b[0;32m----> 5\u001b[0;31m     \u001b[0;32mfor\u001b[0m \u001b[0mj\u001b[0m\u001b[0;34m,\u001b[0m \u001b[0mm\u001b[0m \u001b[0;32min\u001b[0m \u001b[0mi\u001b[0m\u001b[0;34m[\u001b[0m\u001b[0;36m1\u001b[0m\u001b[0;34m]\u001b[0m\u001b[0;34m[\u001b[0m\u001b[0;34m[\u001b[0m\u001b[0;34m'num'\u001b[0m\u001b[0;34m,\u001b[0m\u001b[0;34m'file_name'\u001b[0m\u001b[0;34m]\u001b[0m\u001b[0;34m]\u001b[0m\u001b[0;34m:\u001b[0m\u001b[0;34m\u001b[0m\u001b[0;34m\u001b[0m\u001b[0m\n\u001b[0m\u001b[1;32m      6\u001b[0m         \u001b[0mdf_list\u001b[0m\u001b[0;34m.\u001b[0m\u001b[0mappend\u001b[0m\u001b[0;34m(\u001b[0m\u001b[0mpd\u001b[0m\u001b[0;34m.\u001b[0m\u001b[0mread_csv\u001b[0m\u001b[0;34m(\u001b[0m\u001b[0;34m\"data/\"\u001b[0m\u001b[0;34m+\u001b[0m\u001b[0mm\u001b[0m\u001b[0;34m,\u001b[0m \u001b[0mindex\u001b[0m\u001b[0;34m=\u001b[0m\u001b[0;34m[\u001b[0m\u001b[0;34m[\u001b[0m\u001b[0mk\u001b[0m \u001b[0;34m+\u001b[0m \u001b[0;34m\"_\"\u001b[0m\u001b[0;34m+\u001b[0m\u001b[0mstr\u001b[0m\u001b[0;34m(\u001b[0m\u001b[0mj\u001b[0m\u001b[0;34m.\u001b[0m\u001b[0mnum\u001b[0m\u001b[0;34m)\u001b[0m \u001b[0;32mfor\u001b[0m \u001b[0mk\u001b[0m \u001b[0;32min\u001b[0m \u001b[0mpara_list\u001b[0m\u001b[0;34m]\u001b[0m\u001b[0;34m]\u001b[0m\u001b[0;34m)\u001b[0m\u001b[0;34m[\u001b[0m\u001b[0mpara_list\u001b[0m\u001b[0;34m]\u001b[0m\u001b[0;34m)\u001b[0m\u001b[0;34m\u001b[0m\u001b[0;34m\u001b[0m\u001b[0m\n\u001b[1;32m      7\u001b[0m     \u001b[0mdf_all\u001b[0m \u001b[0;34m=\u001b[0m \u001b[0mpd\u001b[0m\u001b[0;34m.\u001b[0m\u001b[0mconcat\u001b[0m\u001b[0;34m(\u001b[0m\u001b[0mdf_list\u001b[0m\u001b[0;34m,\u001b[0m \u001b[0maxis\u001b[0m \u001b[0;34m=\u001b[0m\u001b[0;36m1\u001b[0m\u001b[0;34m)\u001b[0m\u001b[0;34m\u001b[0m\u001b[0;34m\u001b[0m\u001b[0m\n",
      "\u001b[0;31mValueError\u001b[0m: too many values to unpack (expected 2)"
     ]
    }
   ],
   "source": [
    "#複数の時系列データを比較する\n",
    "para_list = [\"A\", \"F_V_down\"]\n",
    "for i in df_g:\n",
    "    df_list = []\n",
    "    for j, m in i[1][['num','file_name']]:\n",
    "        df_list.append(pd.read_csv(\"data/\"+m, index=[[k + \"_\"+str(j.num) for k in para_list]])[para_list])\n",
    "    df_all = pd.concat(df_list, axis =1)\n",
    "    fig = plt.figure(figsize=(4,4))\n",
    "    ax１ = fig.add_subplot(111)"
   ]
  },
  {
   "cell_type": "code",
   "execution_count": 269,
   "metadata": {},
   "outputs": [],
   "source": [
    "#保存データの条件\n",
    "a=df_meta[['tar_NE', 'tar_GAIRCYL']]\n",
    "para_g = []\n",
    "for i in range(len(a)):\n",
    "    para_g.append(tuple(a.iloc[i]))\n",
    "para_g=tuple(set(para_g))"
   ]
  },
  {
   "cell_type": "code",
   "execution_count": 300,
   "metadata": {},
   "outputs": [
    {
     "data": {
      "text/plain": [
       "((1000, 1), (1000, 3), (1000, 2))"
      ]
     },
     "execution_count": 300,
     "metadata": {},
     "output_type": "execute_result"
    }
   ],
   "source": [
    "para_g"
   ]
  },
  {
   "cell_type": "code",
   "execution_count": 285,
   "metadata": {},
   "outputs": [
    {
     "data": {
      "text/html": [
       "<div>\n",
       "<style scoped>\n",
       "    .dataframe tbody tr th:only-of-type {\n",
       "        vertical-align: middle;\n",
       "    }\n",
       "\n",
       "    .dataframe tbody tr th {\n",
       "        vertical-align: top;\n",
       "    }\n",
       "\n",
       "    .dataframe thead th {\n",
       "        text-align: right;\n",
       "    }\n",
       "</style>\n",
       "<table border=\"1\" class=\"dataframe\">\n",
       "  <thead>\n",
       "    <tr style=\"text-align: right;\">\n",
       "      <th></th>\n",
       "      <th>A</th>\n",
       "      <th>F_V_down</th>\n",
       "    </tr>\n",
       "  </thead>\n",
       "  <tbody>\n",
       "    <tr>\n",
       "      <td>0</td>\n",
       "      <td>0.992606</td>\n",
       "      <td>1</td>\n",
       "    </tr>\n",
       "    <tr>\n",
       "      <td>1</td>\n",
       "      <td>1.393852</td>\n",
       "      <td>1</td>\n",
       "    </tr>\n",
       "    <tr>\n",
       "      <td>2</td>\n",
       "      <td>-0.590328</td>\n",
       "      <td>1</td>\n",
       "    </tr>\n",
       "    <tr>\n",
       "      <td>3</td>\n",
       "      <td>1.371711</td>\n",
       "      <td>1</td>\n",
       "    </tr>\n",
       "    <tr>\n",
       "      <td>4</td>\n",
       "      <td>0.614173</td>\n",
       "      <td>1</td>\n",
       "    </tr>\n",
       "    <tr>\n",
       "      <td>...</td>\n",
       "      <td>...</td>\n",
       "      <td>...</td>\n",
       "    </tr>\n",
       "    <tr>\n",
       "      <td>995</td>\n",
       "      <td>-0.843094</td>\n",
       "      <td>0</td>\n",
       "    </tr>\n",
       "    <tr>\n",
       "      <td>996</td>\n",
       "      <td>0.341967</td>\n",
       "      <td>0</td>\n",
       "    </tr>\n",
       "    <tr>\n",
       "      <td>997</td>\n",
       "      <td>0.130972</td>\n",
       "      <td>0</td>\n",
       "    </tr>\n",
       "    <tr>\n",
       "      <td>998</td>\n",
       "      <td>-0.152918</td>\n",
       "      <td>0</td>\n",
       "    </tr>\n",
       "    <tr>\n",
       "      <td>999</td>\n",
       "      <td>-1.224396</td>\n",
       "      <td>0</td>\n",
       "    </tr>\n",
       "  </tbody>\n",
       "</table>\n",
       "<p>1000 rows × 2 columns</p>\n",
       "</div>"
      ],
      "text/plain": [
       "            A  F_V_down\n",
       "0    0.992606         1\n",
       "1    1.393852         1\n",
       "2   -0.590328         1\n",
       "3    1.371711         1\n",
       "4    0.614173         1\n",
       "..        ...       ...\n",
       "995 -0.843094         0\n",
       "996  0.341967         0\n",
       "997  0.130972         0\n",
       "998 -0.152918         0\n",
       "999 -1.224396         0\n",
       "\n",
       "[1000 rows x 2 columns]"
      ]
     },
     "execution_count": 285,
     "metadata": {},
     "output_type": "execute_result"
    }
   ],
   "source": [
    "para_list[0]"
   ]
  },
  {
   "cell_type": "code",
   "execution_count": 307,
   "metadata": {},
   "outputs": [
    {
     "name": "stdout",
     "output_type": "stream",
     "text": [
      "['0.csv' '1.csv']\n",
      "['4.csv']\n",
      "['2.csv' '3.csv']\n"
     ]
    },
    {
     "data": {
      "image/png": "[encoded data removed]",
      "text/plain": [
       "<Figure size 288x288 with 2 Axes>"
      ]
     },
     "metadata": {
      "needs_background": "light"
     },
     "output_type": "display_data"
    },
    {
     "data": {
      "image/png": "[encoded data removed]",
      "text/plain": [
       "<Figure size 288x288 with 1 Axes>"
      ]
     },
     "metadata": {
      "needs_background": "light"
     },
     "output_type": "display_data"
    },
    {
     "data": {
      "image/png": "[encoded data removed]",
      "text/plain": [
       "<Figure size 288x288 with 2 Axes>"
      ]
     },
     "metadata": {
      "needs_background": "light"
     },
     "output_type": "display_data"
    }
   ],
   "source": [
    "#グループごとにデータを読み込み可視化する。\n",
    "for i in para_g:\n",
    "    df_list = []\n",
    "    para_list=[]\n",
    "    file = df_g.get_group(i).file_name.values\n",
    "    for j in range(len(file)):\n",
    "        df_list.append(pd.read_csv(\"data/\"+file[j]))\n",
    "        para_list.append(df_list[j][[\"A\", \"F_V_down\"]])\n",
    "        para_list[j].columns= [\"A\"+str(j+1), \"B\"+str(j+1)]\n",
    "    df_all = pd.concat(para_list,axis=1)\n",
    "    fig = plt.figure(figsize=(4,4))\n",
    "    ax１ = fig.add_subplot(111)\n",
    "    print(file)\n",
    "    \n",
    "    if len(file) == 2:\n",
    "        ax1.set_xlabel('Time')\n",
    "        ax2 = ax1.twinx()\n",
    "        ax1.set_ylabel(\"A\")\n",
    "        ax2.set_ylabel(\"B\")\n",
    "        ax1.plot(df_all[[\"A1\",\"A2\"]])\n",
    "        ax2.plot(df_all[[\"B1\",\"B2\"]])\n",
    "    \n",
    "    else:\n",
    "        ax1.set_xlabel('Time')\n",
    "        ax1.set_ylabel(\"A\")\n",
    "        ax1.plot(df_all[[\"A1\",\"B1\"]])\n",
    "\n",
    "    output_jpeg(str(i)+\".csv\", ax2)"
   ]
  },
  {
   "cell_type": "code",
   "execution_count": 295,
   "metadata": {},
   "outputs": [],
   "source": [
    "def output_jpeg(file_name, fig):\n",
    "    fig.figure.savefig(file_name+'.jpeg')"
   ]
  },
  {
   "cell_type": "code",
   "execution_count": 275,
   "metadata": {},
   "outputs": [
    {
     "data": {
      "text/html": [
       "<div>\n",
       "<style scoped>\n",
       "    .dataframe tbody tr th:only-of-type {\n",
       "        vertical-align: middle;\n",
       "    }\n",
       "\n",
       "    .dataframe tbody tr th {\n",
       "        vertical-align: top;\n",
       "    }\n",
       "\n",
       "    .dataframe thead th {\n",
       "        text-align: right;\n",
       "    }\n",
       "</style>\n",
       "<table border=\"1\" class=\"dataframe\">\n",
       "  <thead>\n",
       "    <tr style=\"text-align: right;\">\n",
       "      <th></th>\n",
       "      <th>A</th>\n",
       "      <th>B</th>\n",
       "      <th>C</th>\n",
       "      <th>D</th>\n",
       "    </tr>\n",
       "  </thead>\n",
       "  <tbody>\n",
       "    <tr>\n",
       "      <td>0</td>\n",
       "      <td>-0.180332</td>\n",
       "      <td>1</td>\n",
       "      <td>-0.963470</td>\n",
       "      <td>1</td>\n",
       "    </tr>\n",
       "    <tr>\n",
       "      <td>1</td>\n",
       "      <td>-0.022288</td>\n",
       "      <td>1</td>\n",
       "      <td>-0.152604</td>\n",
       "      <td>1</td>\n",
       "    </tr>\n",
       "    <tr>\n",
       "      <td>2</td>\n",
       "      <td>1.843252</td>\n",
       "      <td>1</td>\n",
       "      <td>-1.955441</td>\n",
       "      <td>1</td>\n",
       "    </tr>\n",
       "    <tr>\n",
       "      <td>3</td>\n",
       "      <td>0.541434</td>\n",
       "      <td>1</td>\n",
       "      <td>0.110448</td>\n",
       "      <td>1</td>\n",
       "    </tr>\n",
       "    <tr>\n",
       "      <td>4</td>\n",
       "      <td>-0.048732</td>\n",
       "      <td>1</td>\n",
       "      <td>-0.394215</td>\n",
       "      <td>1</td>\n",
       "    </tr>\n",
       "    <tr>\n",
       "      <td>...</td>\n",
       "      <td>...</td>\n",
       "      <td>...</td>\n",
       "      <td>...</td>\n",
       "      <td>...</td>\n",
       "    </tr>\n",
       "    <tr>\n",
       "      <td>995</td>\n",
       "      <td>-0.488315</td>\n",
       "      <td>0</td>\n",
       "      <td>-0.654222</td>\n",
       "      <td>0</td>\n",
       "    </tr>\n",
       "    <tr>\n",
       "      <td>996</td>\n",
       "      <td>-0.190832</td>\n",
       "      <td>0</td>\n",
       "      <td>0.303469</td>\n",
       "      <td>0</td>\n",
       "    </tr>\n",
       "    <tr>\n",
       "      <td>997</td>\n",
       "      <td>-1.121062</td>\n",
       "      <td>0</td>\n",
       "      <td>0.526884</td>\n",
       "      <td>0</td>\n",
       "    </tr>\n",
       "    <tr>\n",
       "      <td>998</td>\n",
       "      <td>0.194649</td>\n",
       "      <td>0</td>\n",
       "      <td>-0.580432</td>\n",
       "      <td>0</td>\n",
       "    </tr>\n",
       "    <tr>\n",
       "      <td>999</td>\n",
       "      <td>-0.396598</td>\n",
       "      <td>0</td>\n",
       "      <td>0.027819</td>\n",
       "      <td>0</td>\n",
       "    </tr>\n",
       "  </tbody>\n",
       "</table>\n",
       "<p>1000 rows × 4 columns</p>\n",
       "</div>"
      ],
      "text/plain": [
       "            A  B         C  D\n",
       "0   -0.180332  1 -0.963470  1\n",
       "1   -0.022288  1 -0.152604  1\n",
       "2    1.843252  1 -1.955441  1\n",
       "3    0.541434  1  0.110448  1\n",
       "4   -0.048732  1 -0.394215  1\n",
       "..        ... ..       ... ..\n",
       "995 -0.488315  0 -0.654222  0\n",
       "996 -0.190832  0  0.303469  0\n",
       "997 -1.121062  0  0.526884  0\n",
       "998  0.194649  0 -0.580432  0\n",
       "999 -0.396598  0  0.027819  0\n",
       "\n",
       "[1000 rows x 4 columns]"
      ]
     },
     "execution_count": 275,
     "metadata": {},
     "output_type": "execute_result"
    }
   ],
   "source": [
    "df_all"
   ]
  },
  {
   "cell_type": "code",
   "execution_count": null,
   "metadata": {},
   "outputs": [],
   "source": [
    "a = pd.concat([df1.A,df2.A,df1.F_V_down,df2.F_V_down],axis=1)"
   ]
  },
  {
   "cell_type": "code",
   "execution_count": 253,
   "metadata": {},
   "outputs": [],
   "source": [
    "para_g = []\n",
    "for i in range(len(a)):\n",
    "    para_g.append(tuple(a.iloc[i]))"
   ]
  },
  {
   "cell_type": "code",
   "execution_count": 217,
   "metadata": {},
   "outputs": [],
   "source": [
    "\n",
    "df1 = data_list[0]\n",
    "df2 = data_list[1]"
   ]
  },
  {
   "cell_type": "code",
   "execution_count": 218,
   "metadata": {},
   "outputs": [],
   "source": [
    "a = pd.concat([df1.A,df2.A,df1.F_V_down,df2.F_V_down],axis=1)"
   ]
  },
  {
   "cell_type": "code",
   "execution_count": 219,
   "metadata": {},
   "outputs": [],
   "source": [
    "a.columns=['A', 'B','C','D']"
   ]
  },
  {
   "cell_type": "code",
   "execution_count": 298,
   "metadata": {},
   "outputs": [
    {
     "ename": "KeyError",
     "evalue": "\"None of [Index(['A', 'B'], dtype='object')] are in the [columns]\"",
     "output_type": "error",
     "traceback": [
      "\u001b[0;31m---------------------------------------------------------------------------\u001b[0m",
      "\u001b[0;31mKeyError\u001b[0m                                  Traceback (most recent call last)",
      "\u001b[0;32m<ipython-input-298-38974dc199cd>\u001b[0m in \u001b[0;36m<module>\u001b[0;34m\u001b[0m\n\u001b[1;32m      4\u001b[0m \u001b[0max1\u001b[0m\u001b[0;34m.\u001b[0m\u001b[0mset_ylabel\u001b[0m\u001b[0;34m(\u001b[0m\u001b[0;34m\"A\"\u001b[0m\u001b[0;34m)\u001b[0m\u001b[0;34m\u001b[0m\u001b[0;34m\u001b[0m\u001b[0m\n\u001b[1;32m      5\u001b[0m \u001b[0max2\u001b[0m\u001b[0;34m.\u001b[0m\u001b[0mset_ylabel\u001b[0m\u001b[0;34m(\u001b[0m\u001b[0;34m\"B\"\u001b[0m\u001b[0;34m)\u001b[0m\u001b[0;34m\u001b[0m\u001b[0;34m\u001b[0m\u001b[0m\n\u001b[0;32m----> 6\u001b[0;31m \u001b[0max1\u001b[0m\u001b[0;34m.\u001b[0m\u001b[0mplot\u001b[0m\u001b[0;34m(\u001b[0m\u001b[0ma\u001b[0m\u001b[0;34m[\u001b[0m\u001b[0;34m[\u001b[0m\u001b[0;34m\"A\"\u001b[0m\u001b[0;34m,\u001b[0m\u001b[0;34m\"B\"\u001b[0m\u001b[0;34m]\u001b[0m\u001b[0;34m]\u001b[0m\u001b[0;34m)\u001b[0m\u001b[0;34m\u001b[0m\u001b[0;34m\u001b[0m\u001b[0m\n\u001b[0m\u001b[1;32m      7\u001b[0m \u001b[0max2\u001b[0m\u001b[0;34m.\u001b[0m\u001b[0mplot\u001b[0m\u001b[0;34m(\u001b[0m\u001b[0ma\u001b[0m\u001b[0;34m[\u001b[0m\u001b[0;34m[\u001b[0m\u001b[0;34m\"C\"\u001b[0m\u001b[0;34m,\u001b[0m\u001b[0;34m\"D\"\u001b[0m\u001b[0;34m]\u001b[0m\u001b[0;34m]\u001b[0m\u001b[0;34m)\u001b[0m\u001b[0;34m\u001b[0m\u001b[0;34m\u001b[0m\u001b[0m\n\u001b[1;32m      8\u001b[0m \u001b[0;34m\u001b[0m\u001b[0m\n",
      "\u001b[0;32m/opt/anaconda3/lib/python3.7/site-packages/pandas/core/frame.py\u001b[0m in \u001b[0;36m__getitem__\u001b[0;34m(self, key)\u001b[0m\n\u001b[1;32m   2984\u001b[0m             \u001b[0;32mif\u001b[0m \u001b[0mis_iterator\u001b[0m\u001b[0;34m(\u001b[0m\u001b[0mkey\u001b[0m\u001b[0;34m)\u001b[0m\u001b[0;34m:\u001b[0m\u001b[0;34m\u001b[0m\u001b[0;34m\u001b[0m\u001b[0m\n\u001b[1;32m   2985\u001b[0m                 \u001b[0mkey\u001b[0m \u001b[0;34m=\u001b[0m \u001b[0mlist\u001b[0m\u001b[0;34m(\u001b[0m\u001b[0mkey\u001b[0m\u001b[0;34m)\u001b[0m\u001b[0;34m\u001b[0m\u001b[0;34m\u001b[0m\u001b[0m\n\u001b[0;32m-> 2986\u001b[0;31m             \u001b[0mindexer\u001b[0m \u001b[0;34m=\u001b[0m \u001b[0mself\u001b[0m\u001b[0;34m.\u001b[0m\u001b[0mloc\u001b[0m\u001b[0;34m.\u001b[0m\u001b[0m_convert_to_indexer\u001b[0m\u001b[0;34m(\u001b[0m\u001b[0mkey\u001b[0m\u001b[0;34m,\u001b[0m \u001b[0maxis\u001b[0m\u001b[0;34m=\u001b[0m\u001b[0;36m1\u001b[0m\u001b[0;34m,\u001b[0m \u001b[0mraise_missing\u001b[0m\u001b[0;34m=\u001b[0m\u001b[0;32mTrue\u001b[0m\u001b[0;34m)\u001b[0m\u001b[0;34m\u001b[0m\u001b[0;34m\u001b[0m\u001b[0m\n\u001b[0m\u001b[1;32m   2987\u001b[0m \u001b[0;34m\u001b[0m\u001b[0m\n\u001b[1;32m   2988\u001b[0m         \u001b[0;31m# take() does not accept boolean indexers\u001b[0m\u001b[0;34m\u001b[0m\u001b[0;34m\u001b[0m\u001b[0;34m\u001b[0m\u001b[0m\n",
      "\u001b[0;32m/opt/anaconda3/lib/python3.7/site-packages/pandas/core/indexing.py\u001b[0m in \u001b[0;36m_convert_to_indexer\u001b[0;34m(self, obj, axis, is_setter, raise_missing)\u001b[0m\n\u001b[1;32m   1283\u001b[0m                 \u001b[0;31m# When setting, missing keys are not allowed, even with .loc:\u001b[0m\u001b[0;34m\u001b[0m\u001b[0;34m\u001b[0m\u001b[0;34m\u001b[0m\u001b[0m\n\u001b[1;32m   1284\u001b[0m                 \u001b[0mkwargs\u001b[0m \u001b[0;34m=\u001b[0m \u001b[0;34m{\u001b[0m\u001b[0;34m\"raise_missing\"\u001b[0m\u001b[0;34m:\u001b[0m \u001b[0;32mTrue\u001b[0m \u001b[0;32mif\u001b[0m \u001b[0mis_setter\u001b[0m \u001b[0;32melse\u001b[0m \u001b[0mraise_missing\u001b[0m\u001b[0;34m}\u001b[0m\u001b[0;34m\u001b[0m\u001b[0;34m\u001b[0m\u001b[0m\n\u001b[0;32m-> 1285\u001b[0;31m                 \u001b[0;32mreturn\u001b[0m \u001b[0mself\u001b[0m\u001b[0;34m.\u001b[0m\u001b[0m_get_listlike_indexer\u001b[0m\u001b[0;34m(\u001b[0m\u001b[0mobj\u001b[0m\u001b[0;34m,\u001b[0m \u001b[0maxis\u001b[0m\u001b[0;34m,\u001b[0m \u001b[0;34m**\u001b[0m\u001b[0mkwargs\u001b[0m\u001b[0;34m)\u001b[0m\u001b[0;34m[\u001b[0m\u001b[0;36m1\u001b[0m\u001b[0;34m]\u001b[0m\u001b[0;34m\u001b[0m\u001b[0;34m\u001b[0m\u001b[0m\n\u001b[0m\u001b[1;32m   1286\u001b[0m         \u001b[0;32melse\u001b[0m\u001b[0;34m:\u001b[0m\u001b[0;34m\u001b[0m\u001b[0;34m\u001b[0m\u001b[0m\n\u001b[1;32m   1287\u001b[0m             \u001b[0;32mtry\u001b[0m\u001b[0;34m:\u001b[0m\u001b[0;34m\u001b[0m\u001b[0;34m\u001b[0m\u001b[0m\n",
      "\u001b[0;32m/opt/anaconda3/lib/python3.7/site-packages/pandas/core/indexing.py\u001b[0m in \u001b[0;36m_get_listlike_indexer\u001b[0;34m(self, key, axis, raise_missing)\u001b[0m\n\u001b[1;32m   1090\u001b[0m \u001b[0;34m\u001b[0m\u001b[0m\n\u001b[1;32m   1091\u001b[0m         self._validate_read_indexer(\n\u001b[0;32m-> 1092\u001b[0;31m             \u001b[0mkeyarr\u001b[0m\u001b[0;34m,\u001b[0m \u001b[0mindexer\u001b[0m\u001b[0;34m,\u001b[0m \u001b[0mo\u001b[0m\u001b[0;34m.\u001b[0m\u001b[0m_get_axis_number\u001b[0m\u001b[0;34m(\u001b[0m\u001b[0maxis\u001b[0m\u001b[0;34m)\u001b[0m\u001b[0;34m,\u001b[0m \u001b[0mraise_missing\u001b[0m\u001b[0;34m=\u001b[0m\u001b[0mraise_missing\u001b[0m\u001b[0;34m\u001b[0m\u001b[0;34m\u001b[0m\u001b[0m\n\u001b[0m\u001b[1;32m   1093\u001b[0m         )\n\u001b[1;32m   1094\u001b[0m         \u001b[0;32mreturn\u001b[0m \u001b[0mkeyarr\u001b[0m\u001b[0;34m,\u001b[0m \u001b[0mindexer\u001b[0m\u001b[0;34m\u001b[0m\u001b[0;34m\u001b[0m\u001b[0m\n",
      "\u001b[0;32m/opt/anaconda3/lib/python3.7/site-packages/pandas/core/indexing.py\u001b[0m in \u001b[0;36m_validate_read_indexer\u001b[0;34m(self, key, indexer, axis, raise_missing)\u001b[0m\n\u001b[1;32m   1175\u001b[0m                 raise KeyError(\n\u001b[1;32m   1176\u001b[0m                     \"None of [{key}] are in the [{axis}]\".format(\n\u001b[0;32m-> 1177\u001b[0;31m                         \u001b[0mkey\u001b[0m\u001b[0;34m=\u001b[0m\u001b[0mkey\u001b[0m\u001b[0;34m,\u001b[0m \u001b[0maxis\u001b[0m\u001b[0;34m=\u001b[0m\u001b[0mself\u001b[0m\u001b[0;34m.\u001b[0m\u001b[0mobj\u001b[0m\u001b[0;34m.\u001b[0m\u001b[0m_get_axis_name\u001b[0m\u001b[0;34m(\u001b[0m\u001b[0maxis\u001b[0m\u001b[0;34m)\u001b[0m\u001b[0;34m\u001b[0m\u001b[0;34m\u001b[0m\u001b[0m\n\u001b[0m\u001b[1;32m   1178\u001b[0m                     )\n\u001b[1;32m   1179\u001b[0m                 )\n",
      "\u001b[0;31mKeyError\u001b[0m: \"None of [Index(['A', 'B'], dtype='object')] are in the [columns]\""
     ]
    },
    {
     "data": {
      "image/png": "[encoded data removed]",
      "text/plain": [
       "<Figure size 288x288 with 2 Axes>"
      ]
     },
     "metadata": {
      "needs_background": "light"
     },
     "output_type": "display_data"
    }
   ],
   "source": [
    "\n",
    "fig = plt.figure(figsize=(4,4))\n",
    "ax１ = fig.add_subplot(111)\n",
    "ax2 = ax1.twinx()\n",
    "ax1.set_ylabel(\"A\")\n",
    "ax2.set_ylabel(\"B\")\n",
    "ax1.plot(a[[\"A\",\"B\"]])\n",
    "ax2.plot(a[[\"C\",\"D\"]])\n",
    "\n",
    "\n",
    "\n",
    "\n",
    "\n",
    "#fig.show()\n",
    "#a.plot(secondary_y=['C','D'], ax = ax2)\n",
    "\n",
    "\n",
    "\n",
    "#ax.set_ylabel(\"B\")\n",
    "# TITLEを設定\n",
    "#ax.set_title(\"TEST\")\n",
    "# X軸の範囲\n",
    "#ax.set_xlim(0,2*np.pi)\n",
    "# Y軸の範囲\n",
    "#ax.set_ylim(-1,1)\n",
    "# X軸のTick（目盛）の位置を設定\n",
    "#ax.set_xticks([0, np.pi, np.pi*2])\n",
    "# X軸のTick（目盛）の表記を設定\n",
    "#ax.set_xticklabels([0, 'π', '2π'])\n",
    "# Y軸のTick（目盛）の位置を設定\n",
    "#ax.set_yticks([-1, -0.5, 0, 0.5, 1])\n",
    "# X軸のラベルを設定\n",
    "#ax.set_label('X [RAD]')\n",
    "# グラフ表示\n",
    "plt.show()"
   ]
  },
  {
   "cell_type": "code",
   "execution_count": 221,
   "metadata": {},
   "outputs": [],
   "source": [
    "df_g = df_meta.groupby([\"tar_NE\",\"num\"])"
   ]
  },
  {
   "cell_type": "code",
   "execution_count": 222,
   "metadata": {
    "scrolled": true
   },
   "outputs": [
    {
     "data": {
      "text/plain": [
       "0    0.csv\n",
       "1    1.csv\n",
       "Name: file_name, dtype: object"
      ]
     },
     "execution_count": 222,
     "metadata": {},
     "output_type": "execute_result"
    }
   ],
   "source": [
    "df_g.get_group((1000,1)).file_name"
   ]
  },
  {
   "cell_type": "code",
   "execution_count": 223,
   "metadata": {
    "scrolled": true
   },
   "outputs": [
    {
     "data": {
      "text/plain": [
       "<pandas.core.groupby.generic.DataFrameGroupBy object at 0x12bdf8c90>"
      ]
     },
     "execution_count": 223,
     "metadata": {},
     "output_type": "execute_result"
    }
   ],
   "source": [
    "df_g"
   ]
  },
  {
   "cell_type": "code",
   "execution_count": 317,
   "metadata": {},
   "outputs": [
    {
     "data": {
      "text/html": [
       "<div>\n",
       "<style scoped>\n",
       "    .dataframe tbody tr th:only-of-type {\n",
       "        vertical-align: middle;\n",
       "    }\n",
       "\n",
       "    .dataframe tbody tr th {\n",
       "        vertical-align: top;\n",
       "    }\n",
       "\n",
       "    .dataframe thead th {\n",
       "        text-align: right;\n",
       "    }\n",
       "</style>\n",
       "<table border=\"1\" class=\"dataframe\">\n",
       "  <thead>\n",
       "    <tr style=\"text-align: right;\">\n",
       "      <th></th>\n",
       "      <th>tar_NE</th>\n",
       "      <th>tar_GAIRCYL</th>\n",
       "      <th>num</th>\n",
       "      <th>file_name</th>\n",
       "    </tr>\n",
       "  </thead>\n",
       "  <tbody>\n",
       "    <tr>\n",
       "      <td>0</td>\n",
       "      <td>1000</td>\n",
       "      <td>0.20</td>\n",
       "      <td>1</td>\n",
       "      <td>0.csv</td>\n",
       "    </tr>\n",
       "    <tr>\n",
       "      <td>1</td>\n",
       "      <td>1000</td>\n",
       "      <td>0.20</td>\n",
       "      <td>2</td>\n",
       "      <td>1.csv</td>\n",
       "    </tr>\n",
       "    <tr>\n",
       "      <td>2</td>\n",
       "      <td>1000</td>\n",
       "      <td>0.25</td>\n",
       "      <td>1</td>\n",
       "      <td>2.csv</td>\n",
       "    </tr>\n",
       "    <tr>\n",
       "      <td>3</td>\n",
       "      <td>1000</td>\n",
       "      <td>0.25</td>\n",
       "      <td>2</td>\n",
       "      <td>3.csv</td>\n",
       "    </tr>\n",
       "    <tr>\n",
       "      <td>4</td>\n",
       "      <td>1000</td>\n",
       "      <td>0.30</td>\n",
       "      <td>3</td>\n",
       "      <td>4.csv</td>\n",
       "    </tr>\n",
       "  </tbody>\n",
       "</table>\n",
       "</div>"
      ],
      "text/plain": [
       "   tar_NE  tar_GAIRCYL  num file_name\n",
       "0    1000         0.20    1     0.csv\n",
       "1    1000         0.20    2     1.csv\n",
       "2    1000         0.25    1     2.csv\n",
       "3    1000         0.25    2     3.csv\n",
       "4    1000         0.30    3     4.csv"
      ]
     },
     "execution_count": 317,
     "metadata": {},
     "output_type": "execute_result"
    }
   ],
   "source": [
    "df_meta"
   ]
  },
  {
   "cell_type": "code",
   "execution_count": 198,
   "metadata": {},
   "outputs": [
    {
     "name": "stdout",
     "output_type": "stream",
     "text": [
      "0    0.csv\n",
      "Name: file_name, dtype: object\n",
      "1    1.csv\n",
      "Name: file_name, dtype: object\n",
      "2    2.csv\n",
      "Name: file_name, dtype: object\n",
      "3    3.csv\n",
      "Name: file_name, dtype: object\n",
      "4    4.csv\n",
      "Name: file_name, dtype: object\n"
     ]
    }
   ],
   "source": []
  },
  {
   "cell_type": "code",
   "execution_count": 204,
   "metadata": {},
   "outputs": [],
   "source": [
    "a=df_meta[['tar_NE', 'num']]"
   ]
  },
  {
   "cell_type": "code",
   "execution_count": 225,
   "metadata": {},
   "outputs": [
    {
     "data": {
      "text/html": [
       "<div>\n",
       "<style scoped>\n",
       "    .dataframe tbody tr th:only-of-type {\n",
       "        vertical-align: middle;\n",
       "    }\n",
       "\n",
       "    .dataframe tbody tr th {\n",
       "        vertical-align: top;\n",
       "    }\n",
       "\n",
       "    .dataframe thead th {\n",
       "        text-align: right;\n",
       "    }\n",
       "</style>\n",
       "<table border=\"1\" class=\"dataframe\">\n",
       "  <thead>\n",
       "    <tr style=\"text-align: right;\">\n",
       "      <th></th>\n",
       "      <th>A</th>\n",
       "      <th>B</th>\n",
       "      <th>C</th>\n",
       "      <th>D</th>\n",
       "    </tr>\n",
       "  </thead>\n",
       "  <tbody>\n",
       "    <tr>\n",
       "      <td>0.00</td>\n",
       "      <td>0.534760</td>\n",
       "      <td>1.037240</td>\n",
       "      <td>1</td>\n",
       "      <td>1</td>\n",
       "    </tr>\n",
       "    <tr>\n",
       "      <td>0.01</td>\n",
       "      <td>0.549816</td>\n",
       "      <td>-1.416218</td>\n",
       "      <td>1</td>\n",
       "      <td>1</td>\n",
       "    </tr>\n",
       "    <tr>\n",
       "      <td>0.02</td>\n",
       "      <td>-1.561000</td>\n",
       "      <td>-0.858397</td>\n",
       "      <td>1</td>\n",
       "      <td>1</td>\n",
       "    </tr>\n",
       "    <tr>\n",
       "      <td>0.03</td>\n",
       "      <td>0.390466</td>\n",
       "      <td>1.424585</td>\n",
       "      <td>1</td>\n",
       "      <td>1</td>\n",
       "    </tr>\n",
       "    <tr>\n",
       "      <td>0.04</td>\n",
       "      <td>1.507921</td>\n",
       "      <td>-1.373419</td>\n",
       "      <td>1</td>\n",
       "      <td>1</td>\n",
       "    </tr>\n",
       "    <tr>\n",
       "      <td>...</td>\n",
       "      <td>...</td>\n",
       "      <td>...</td>\n",
       "      <td>...</td>\n",
       "      <td>...</td>\n",
       "    </tr>\n",
       "    <tr>\n",
       "      <td>9.95</td>\n",
       "      <td>-0.551447</td>\n",
       "      <td>-0.608052</td>\n",
       "      <td>0</td>\n",
       "      <td>0</td>\n",
       "    </tr>\n",
       "    <tr>\n",
       "      <td>9.96</td>\n",
       "      <td>1.306547</td>\n",
       "      <td>0.742902</td>\n",
       "      <td>0</td>\n",
       "      <td>0</td>\n",
       "    </tr>\n",
       "    <tr>\n",
       "      <td>9.97</td>\n",
       "      <td>-0.131235</td>\n",
       "      <td>-0.106566</td>\n",
       "      <td>0</td>\n",
       "      <td>0</td>\n",
       "    </tr>\n",
       "    <tr>\n",
       "      <td>9.98</td>\n",
       "      <td>-0.875421</td>\n",
       "      <td>-0.721055</td>\n",
       "      <td>0</td>\n",
       "      <td>0</td>\n",
       "    </tr>\n",
       "    <tr>\n",
       "      <td>9.99</td>\n",
       "      <td>-0.220743</td>\n",
       "      <td>2.346666</td>\n",
       "      <td>0</td>\n",
       "      <td>0</td>\n",
       "    </tr>\n",
       "  </tbody>\n",
       "</table>\n",
       "<p>1000 rows × 4 columns</p>\n",
       "</div>"
      ],
      "text/plain": [
       "             A         B  C  D\n",
       "0.00  0.534760  1.037240  1  1\n",
       "0.01  0.549816 -1.416218  1  1\n",
       "0.02 -1.561000 -0.858397  1  1\n",
       "0.03  0.390466  1.424585  1  1\n",
       "0.04  1.507921 -1.373419  1  1\n",
       "...        ...       ... .. ..\n",
       "9.95 -0.551447 -0.608052  0  0\n",
       "9.96  1.306547  0.742902  0  0\n",
       "9.97 -0.131235 -0.106566  0  0\n",
       "9.98 -0.875421 -0.721055  0  0\n",
       "9.99 -0.220743  2.346666  0  0\n",
       "\n",
       "[1000 rows x 4 columns]"
      ]
     },
     "execution_count": 225,
     "metadata": {},
     "output_type": "execute_result"
    }
   ],
   "source": [
    "a"
   ]
  },
  {
   "cell_type": "code",
   "execution_count": 211,
   "metadata": {},
   "outputs": [],
   "source": [
    "para_g = []\n",
    "for i in range(len(a)):\n",
    "    para_g.append(tuple(a.iloc[i]))"
   ]
  },
  {
   "cell_type": "code",
   "execution_count": 215,
   "metadata": {},
   "outputs": [],
   "source": [
    "para_g=tuple(set(para_g))"
   ]
  },
  {
   "cell_type": "code",
   "execution_count": 216,
   "metadata": {},
   "outputs": [
    {
     "name": "stdout",
     "output_type": "stream",
     "text": [
      "0    0.csv\n",
      "1    1.csv\n",
      "Name: file_name, dtype: object\n",
      "4    4.csv\n",
      "Name: file_name, dtype: object\n",
      "2    2.csv\n",
      "3    3.csv\n",
      "Name: file_name, dtype: object\n"
     ]
    }
   ],
   "source": [
    "for i in para_g:\n",
    "    print(df_g.get_group(i).file_name)"
   ]
  },
  {
   "cell_type": "code",
   "execution_count": null,
   "metadata": {},
   "outputs": [],
   "source": [
    "para_g = []\n",
    "tar_GAIRCYL = [0.1, 0.15, 0.20, 0.25, 0.30]\n",
    "num = [1,2,3]\n",
    "for i in tar_GAIRCYL:\n",
    "    for j in num:\n",
    "        para_g.append((i,j))"
   ]
  }
 ],
 "metadata": {
  "kernelspec": {
   "display_name": "Python 3",
   "language": "python",
   "name": "python3"
  },
  "language_info": {
   "codemirror_mode": {
    "name": "ipython",
    "version": 3
   },
   "file_extension": ".py",
   "mimetype": "text/x-python",
   "name": "python",
   "nbconvert_exporter": "python",
   "pygments_lexer": "ipython3",
   "version": "3.7.4"
  }
 },
 "nbformat": 4,
 "nbformat_minor": 2
}
